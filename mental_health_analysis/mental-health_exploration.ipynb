{
 "cells": [
  {
   "cell_type": "markdown",
   "id": "3fe8502f-debe-49b1-8d4d-90da09f00641",
   "metadata": {},
   "source": [
    "# Mental Health Dataset Exploration"
   ]
  },
  {
   "cell_type": "markdown",
   "id": "04d54558-100e-44e8-b8e6-c05faa60c095",
   "metadata": {
    "jp-MarkdownHeadingCollapsed": true
   },
   "source": [
    "## Imports/Reading in Data"
   ]
  },
  {
   "cell_type": "code",
   "execution_count": 2,
   "id": "c8c96e0b-0f08-4443-a13f-2ed913db8411",
   "metadata": {},
   "outputs": [],
   "source": [
    "import kagglehub\n",
    "import pandas as pd\n",
    "import numpy as np\n",
    "import matplotlib.pyplot as plt\n",
    "import seaborn as sns"
   ]
  },
  {
   "cell_type": "code",
   "execution_count": 3,
   "id": "e542ed06-e0fb-4ec1-8dce-e4c2d5db4a13",
   "metadata": {},
   "outputs": [],
   "source": [
    "# Define path (location of csv)\n",
    "path = \"mental_health_diagnosis_treatment_.csv\"\n",
    "\n",
    "# Read csv into dataframe\n",
    "df = pd.read_csv(path)"
   ]
  },
  {
   "cell_type": "markdown",
   "id": "c4057ef5-146e-4a75-aa2b-c03e42997b05",
   "metadata": {
    "jp-MarkdownHeadingCollapsed": true
   },
   "source": [
    "## Data Overview/Validation"
   ]
  },
  {
   "cell_type": "code",
   "execution_count": 4,
   "id": "8a3ca3e8-4ef6-42ba-ac4f-592ce411aa99",
   "metadata": {},
   "outputs": [
    {
     "name": "stdout",
     "output_type": "stream",
     "text": [
      "<class 'pandas.core.frame.DataFrame'>\n",
      "RangeIndex: 500 entries, 0 to 499\n",
      "Data columns (total 17 columns):\n",
      " #   Column                        Non-Null Count  Dtype \n",
      "---  ------                        --------------  ----- \n",
      " 0   Patient ID                    500 non-null    int64 \n",
      " 1   Age                           500 non-null    int64 \n",
      " 2   Gender                        500 non-null    object\n",
      " 3   Diagnosis                     500 non-null    object\n",
      " 4   Symptom Severity (1-10)       500 non-null    int64 \n",
      " 5   Mood Score (1-10)             500 non-null    int64 \n",
      " 6   Sleep Quality (1-10)          500 non-null    int64 \n",
      " 7   Physical Activity (hrs/week)  500 non-null    int64 \n",
      " 8   Medication                    500 non-null    object\n",
      " 9   Therapy Type                  500 non-null    object\n",
      " 10  Treatment Start Date          500 non-null    object\n",
      " 11  Treatment Duration (weeks)    500 non-null    int64 \n",
      " 12  Stress Level (1-10)           500 non-null    int64 \n",
      " 13  Outcome                       500 non-null    object\n",
      " 14  Treatment Progress (1-10)     500 non-null    int64 \n",
      " 15  AI-Detected Emotional State   500 non-null    object\n",
      " 16  Adherence to Treatment (%)    500 non-null    int64 \n",
      "dtypes: int64(10), object(7)\n",
      "memory usage: 66.5+ KB\n"
     ]
    }
   ],
   "source": [
    "df.info()"
   ]
  },
  {
   "cell_type": "code",
   "execution_count": 5,
   "id": "8a5729f0-e8d5-43d5-b9b8-1fe931f7016b",
   "metadata": {},
   "outputs": [
    {
     "data": {
      "text/plain": [
       "Patient ID                      0\n",
       "Age                             0\n",
       "Gender                          0\n",
       "Diagnosis                       0\n",
       "Symptom Severity (1-10)         0\n",
       "Mood Score (1-10)               0\n",
       "Sleep Quality (1-10)            0\n",
       "Physical Activity (hrs/week)    0\n",
       "Medication                      0\n",
       "Therapy Type                    0\n",
       "Treatment Start Date            0\n",
       "Treatment Duration (weeks)      0\n",
       "Stress Level (1-10)             0\n",
       "Outcome                         0\n",
       "Treatment Progress (1-10)       0\n",
       "AI-Detected Emotional State     0\n",
       "Adherence to Treatment (%)      0\n",
       "dtype: int64"
      ]
     },
     "execution_count": 5,
     "metadata": {},
     "output_type": "execute_result"
    }
   ],
   "source": [
    "df.isnull().sum()"
   ]
  },
  {
   "cell_type": "code",
   "execution_count": 6,
   "id": "3842fb6f-14ca-49be-9780-cb83bc2d87ad",
   "metadata": {},
   "outputs": [
    {
     "data": {
      "text/plain": [
       "0      False\n",
       "1      False\n",
       "2      False\n",
       "3      False\n",
       "4      False\n",
       "       ...  \n",
       "495    False\n",
       "496    False\n",
       "497    False\n",
       "498    False\n",
       "499    False\n",
       "Length: 500, dtype: bool"
      ]
     },
     "execution_count": 6,
     "metadata": {},
     "output_type": "execute_result"
    }
   ],
   "source": [
    "df.duplicated()"
   ]
  },
  {
   "cell_type": "code",
   "execution_count": 7,
   "id": "967a8e09-5a1c-433b-a190-3755658d774d",
   "metadata": {},
   "outputs": [
    {
     "data": {
      "text/html": [
       "<div>\n",
       "<style scoped>\n",
       "    .dataframe tbody tr th:only-of-type {\n",
       "        vertical-align: middle;\n",
       "    }\n",
       "\n",
       "    .dataframe tbody tr th {\n",
       "        vertical-align: top;\n",
       "    }\n",
       "\n",
       "    .dataframe thead th {\n",
       "        text-align: right;\n",
       "    }\n",
       "</style>\n",
       "<table border=\"1\" class=\"dataframe\">\n",
       "  <thead>\n",
       "    <tr style=\"text-align: right;\">\n",
       "      <th></th>\n",
       "      <th>Patient ID</th>\n",
       "      <th>Age</th>\n",
       "      <th>Symptom Severity (1-10)</th>\n",
       "      <th>Mood Score (1-10)</th>\n",
       "      <th>Sleep Quality (1-10)</th>\n",
       "      <th>Physical Activity (hrs/week)</th>\n",
       "      <th>Treatment Duration (weeks)</th>\n",
       "      <th>Stress Level (1-10)</th>\n",
       "      <th>Treatment Progress (1-10)</th>\n",
       "      <th>Adherence to Treatment (%)</th>\n",
       "    </tr>\n",
       "  </thead>\n",
       "  <tbody>\n",
       "    <tr>\n",
       "      <th>count</th>\n",
       "      <td>500.000000</td>\n",
       "      <td>500.000000</td>\n",
       "      <td>500.000000</td>\n",
       "      <td>500.000000</td>\n",
       "      <td>500.000000</td>\n",
       "      <td>500.000000</td>\n",
       "      <td>500.000000</td>\n",
       "      <td>500.000000</td>\n",
       "      <td>500.000000</td>\n",
       "      <td>500.00000</td>\n",
       "    </tr>\n",
       "    <tr>\n",
       "      <th>mean</th>\n",
       "      <td>250.500000</td>\n",
       "      <td>38.708000</td>\n",
       "      <td>7.478000</td>\n",
       "      <td>5.482000</td>\n",
       "      <td>6.472000</td>\n",
       "      <td>5.216000</td>\n",
       "      <td>12.110000</td>\n",
       "      <td>7.542000</td>\n",
       "      <td>7.436000</td>\n",
       "      <td>75.45400</td>\n",
       "    </tr>\n",
       "    <tr>\n",
       "      <th>std</th>\n",
       "      <td>144.481833</td>\n",
       "      <td>12.712433</td>\n",
       "      <td>1.706265</td>\n",
       "      <td>1.707486</td>\n",
       "      <td>1.668167</td>\n",
       "      <td>2.829374</td>\n",
       "      <td>2.440864</td>\n",
       "      <td>1.709409</td>\n",
       "      <td>1.725067</td>\n",
       "      <td>9.08697</td>\n",
       "    </tr>\n",
       "    <tr>\n",
       "      <th>min</th>\n",
       "      <td>1.000000</td>\n",
       "      <td>18.000000</td>\n",
       "      <td>5.000000</td>\n",
       "      <td>3.000000</td>\n",
       "      <td>4.000000</td>\n",
       "      <td>1.000000</td>\n",
       "      <td>8.000000</td>\n",
       "      <td>5.000000</td>\n",
       "      <td>5.000000</td>\n",
       "      <td>60.00000</td>\n",
       "    </tr>\n",
       "    <tr>\n",
       "      <th>25%</th>\n",
       "      <td>125.750000</td>\n",
       "      <td>28.000000</td>\n",
       "      <td>6.000000</td>\n",
       "      <td>4.000000</td>\n",
       "      <td>5.000000</td>\n",
       "      <td>3.000000</td>\n",
       "      <td>10.000000</td>\n",
       "      <td>6.000000</td>\n",
       "      <td>6.000000</td>\n",
       "      <td>67.00000</td>\n",
       "    </tr>\n",
       "    <tr>\n",
       "      <th>50%</th>\n",
       "      <td>250.500000</td>\n",
       "      <td>38.000000</td>\n",
       "      <td>8.000000</td>\n",
       "      <td>5.000000</td>\n",
       "      <td>6.000000</td>\n",
       "      <td>5.000000</td>\n",
       "      <td>12.000000</td>\n",
       "      <td>8.000000</td>\n",
       "      <td>7.000000</td>\n",
       "      <td>76.00000</td>\n",
       "    </tr>\n",
       "    <tr>\n",
       "      <th>75%</th>\n",
       "      <td>375.250000</td>\n",
       "      <td>50.000000</td>\n",
       "      <td>9.000000</td>\n",
       "      <td>7.000000</td>\n",
       "      <td>8.000000</td>\n",
       "      <td>8.000000</td>\n",
       "      <td>14.000000</td>\n",
       "      <td>9.000000</td>\n",
       "      <td>9.000000</td>\n",
       "      <td>84.00000</td>\n",
       "    </tr>\n",
       "    <tr>\n",
       "      <th>max</th>\n",
       "      <td>500.000000</td>\n",
       "      <td>60.000000</td>\n",
       "      <td>10.000000</td>\n",
       "      <td>8.000000</td>\n",
       "      <td>9.000000</td>\n",
       "      <td>10.000000</td>\n",
       "      <td>16.000000</td>\n",
       "      <td>10.000000</td>\n",
       "      <td>10.000000</td>\n",
       "      <td>90.00000</td>\n",
       "    </tr>\n",
       "  </tbody>\n",
       "</table>\n",
       "</div>"
      ],
      "text/plain": [
       "       Patient ID         Age  Symptom Severity (1-10)  Mood Score (1-10)  \\\n",
       "count  500.000000  500.000000               500.000000         500.000000   \n",
       "mean   250.500000   38.708000                 7.478000           5.482000   \n",
       "std    144.481833   12.712433                 1.706265           1.707486   \n",
       "min      1.000000   18.000000                 5.000000           3.000000   \n",
       "25%    125.750000   28.000000                 6.000000           4.000000   \n",
       "50%    250.500000   38.000000                 8.000000           5.000000   \n",
       "75%    375.250000   50.000000                 9.000000           7.000000   \n",
       "max    500.000000   60.000000                10.000000           8.000000   \n",
       "\n",
       "       Sleep Quality (1-10)  Physical Activity (hrs/week)  \\\n",
       "count            500.000000                    500.000000   \n",
       "mean               6.472000                      5.216000   \n",
       "std                1.668167                      2.829374   \n",
       "min                4.000000                      1.000000   \n",
       "25%                5.000000                      3.000000   \n",
       "50%                6.000000                      5.000000   \n",
       "75%                8.000000                      8.000000   \n",
       "max                9.000000                     10.000000   \n",
       "\n",
       "       Treatment Duration (weeks)  Stress Level (1-10)  \\\n",
       "count                  500.000000           500.000000   \n",
       "mean                    12.110000             7.542000   \n",
       "std                      2.440864             1.709409   \n",
       "min                      8.000000             5.000000   \n",
       "25%                     10.000000             6.000000   \n",
       "50%                     12.000000             8.000000   \n",
       "75%                     14.000000             9.000000   \n",
       "max                     16.000000            10.000000   \n",
       "\n",
       "       Treatment Progress (1-10)  Adherence to Treatment (%)  \n",
       "count                 500.000000                   500.00000  \n",
       "mean                    7.436000                    75.45400  \n",
       "std                     1.725067                     9.08697  \n",
       "min                     5.000000                    60.00000  \n",
       "25%                     6.000000                    67.00000  \n",
       "50%                     7.000000                    76.00000  \n",
       "75%                     9.000000                    84.00000  \n",
       "max                    10.000000                    90.00000  "
      ]
     },
     "execution_count": 7,
     "metadata": {},
     "output_type": "execute_result"
    }
   ],
   "source": [
    "df.describe()"
   ]
  },
  {
   "cell_type": "markdown",
   "id": "63302d7b-9a87-4a17-af34-1518f575674a",
   "metadata": {
    "jp-MarkdownHeadingCollapsed": true
   },
   "source": [
    "## Data Transformation"
   ]
  },
  {
   "cell_type": "markdown",
   "id": "c1eee622-9044-4bab-a913-092585dd5d39",
   "metadata": {},
   "source": [
    "### New Column - Age Group"
   ]
  },
  {
   "cell_type": "code",
   "execution_count": 8,
   "id": "c6afd2dd-e568-4395-851e-12a650768642",
   "metadata": {},
   "outputs": [],
   "source": [
    "# Define the age bins and their corresponding labels (1-5)\n",
    "bins = [18, 24, 34, 44, 54, 60]  # Age range bins (18-24, 25-34, 35-44, 45-54, 55-60)\n",
    "labels = [1, 2, 3, 4, 5]  # Corresponding group numbers\n",
    "\n",
    "# Use pd.cut to categorize 'Age' into the new age groups\n",
    "df['Age Group'] = pd.cut(df['Age'], bins=bins, labels=labels, include_lowest=True, right=True)"
   ]
  },
  {
   "cell_type": "markdown",
   "id": "ed9f81a0-177c-45c1-b40d-fcdcca3fedc4",
   "metadata": {},
   "source": [
    "### New Column, Physical Activity"
   ]
  },
  {
   "cell_type": "code",
   "execution_count": 9,
   "id": "76ffe707-beb4-4930-9ac5-47adb41d849f",
   "metadata": {},
   "outputs": [],
   "source": [
    "bins = [0, 1, 3, 5, 10]\n",
    "labels = ['Sedentary', 'Low Activity', 'Moderate Activity', 'High Activity'] # (0-1, 2-3, 3-5, 5+)\n",
    "\n",
    "df['Activity Group'] = pd.cut(df['Physical Activity (hrs/week)'], bins=bins, labels=labels, right=True)"
   ]
  },
  {
   "cell_type": "markdown",
   "id": "56f18a38-7757-4478-841c-99087a8ccb5e",
   "metadata": {},
   "source": [
    "## Univariate Analysis"
   ]
  },
  {
   "cell_type": "markdown",
   "id": "5963fc5c-2f2f-4181-b2fc-2e1a624356aa",
   "metadata": {
    "jp-MarkdownHeadingCollapsed": true
   },
   "source": [
    "#### Age"
   ]
  },
  {
   "cell_type": "code",
   "execution_count": 11,
   "id": "a362122a-620d-4527-b0f0-99295fa91d30",
   "metadata": {},
   "outputs": [
    {
     "data": {
      "text/html": [
       "<div>\n",
       "<style scoped>\n",
       "    .dataframe tbody tr th:only-of-type {\n",
       "        vertical-align: middle;\n",
       "    }\n",
       "\n",
       "    .dataframe tbody tr th {\n",
       "        vertical-align: top;\n",
       "    }\n",
       "\n",
       "    .dataframe thead th {\n",
       "        text-align: right;\n",
       "    }\n",
       "</style>\n",
       "<table border=\"1\" class=\"dataframe\">\n",
       "  <thead>\n",
       "    <tr style=\"text-align: right;\">\n",
       "      <th></th>\n",
       "      <th>index</th>\n",
       "      <th>Age</th>\n",
       "    </tr>\n",
       "  </thead>\n",
       "  <tbody>\n",
       "    <tr>\n",
       "      <th>0</th>\n",
       "      <td>count</td>\n",
       "      <td>500.000000</td>\n",
       "    </tr>\n",
       "    <tr>\n",
       "      <th>1</th>\n",
       "      <td>mean</td>\n",
       "      <td>38.708000</td>\n",
       "    </tr>\n",
       "    <tr>\n",
       "      <th>2</th>\n",
       "      <td>std</td>\n",
       "      <td>12.712433</td>\n",
       "    </tr>\n",
       "    <tr>\n",
       "      <th>3</th>\n",
       "      <td>min</td>\n",
       "      <td>18.000000</td>\n",
       "    </tr>\n",
       "    <tr>\n",
       "      <th>4</th>\n",
       "      <td>25%</td>\n",
       "      <td>28.000000</td>\n",
       "    </tr>\n",
       "    <tr>\n",
       "      <th>5</th>\n",
       "      <td>50%</td>\n",
       "      <td>38.000000</td>\n",
       "    </tr>\n",
       "    <tr>\n",
       "      <th>6</th>\n",
       "      <td>75%</td>\n",
       "      <td>50.000000</td>\n",
       "    </tr>\n",
       "    <tr>\n",
       "      <th>7</th>\n",
       "      <td>max</td>\n",
       "      <td>60.000000</td>\n",
       "    </tr>\n",
       "  </tbody>\n",
       "</table>\n",
       "</div>"
      ],
      "text/plain": [
       "   index         Age\n",
       "0  count  500.000000\n",
       "1   mean   38.708000\n",
       "2    std   12.712433\n",
       "3    min   18.000000\n",
       "4    25%   28.000000\n",
       "5    50%   38.000000\n",
       "6    75%   50.000000\n",
       "7    max   60.000000"
      ]
     },
     "execution_count": 11,
     "metadata": {},
     "output_type": "execute_result"
    }
   ],
   "source": [
    "df['Age'].describe().reset_index()"
   ]
  },
  {
   "cell_type": "code",
   "execution_count": 27,
   "id": "1bcc2eac-c921-48bb-bb93-b9ad3d18d435",
   "metadata": {
    "scrolled": true
   },
   "outputs": [
    {
     "name": "stdout",
     "output_type": "stream",
     "text": [
      "0.036770367011909534\n"
     ]
    },
    {
     "data": {
      "image/png": "[encoded data removed]",
      "text/plain": [
       "<Figure size 640x480 with 1 Axes>"
      ]
     },
     "metadata": {},
     "output_type": "display_data"
    }
   ],
   "source": [
    "print(df['Age'].skew())\n",
    "sns.histplot(data=df, x='Age', kde=True, bins=20 , edgecolor='black')\n",
    "\n",
    "plt.title('Age Distribution with KDE Curve')\n",
    "plt.xlabel('Age')\n",
    "plt.ylabel('Frequency')\n",
    "plt.show()"
   ]
  },
  {
   "cell_type": "markdown",
   "id": "c289bd46-acc2-4373-9fee-d9e92f2162d6",
   "metadata": {
    "jp-MarkdownHeadingCollapsed": true
   },
   "source": [
    "#### Sleep Quality"
   ]
  },
  {
   "cell_type": "code",
   "execution_count": 47,
   "id": "c9216747-8eba-4751-b86b-1d485cf54481",
   "metadata": {},
   "outputs": [
    {
     "data": {
      "image/png": "[encoded data removed]",
      "text/plain": [
       "<Figure size 640x480 with 1 Axes>"
      ]
     },
     "metadata": {},
     "output_type": "display_data"
    }
   ],
   "source": [
    "sns.boxplot(data=df, x='Sleep Quality (1-10)', orient = 'y')\n",
    "plt.title(\"Sleep Quality\")\n",
    "plt.xlabel(\"Quality of Sleep Rated 1-10\")\n",
    "plt.show()"
   ]
  },
  {
   "cell_type": "markdown",
   "id": "aba8bbc0-ddda-45eb-bdba-cba43d8f6b0d",
   "metadata": {
    "jp-MarkdownHeadingCollapsed": true
   },
   "source": [
    "#### Diagnosis"
   ]
  },
  {
   "cell_type": "code",
   "execution_count": 38,
   "id": "7c7e9929-6b31-425d-84fc-0173339cc9f3",
   "metadata": {},
   "outputs": [
    {
     "name": "stdout",
     "output_type": "stream",
     "text": [
      "Diagnosis\n",
      "Generalized Anxiety          135\n",
      "Major Depressive Disorder    125\n",
      "Bipolar Disorder             124\n",
      "Panic Disorder               116\n",
      "Name: count, dtype: int64\n"
     ]
    }
   ],
   "source": [
    "diagnosis_counts = df['Diagnosis'].value_counts() \n",
    "print(diagnosis_counts)"
   ]
  },
  {
   "cell_type": "code",
   "execution_count": 42,
   "id": "b8e2dfe2-6875-4235-af8e-da92c04c3f22",
   "metadata": {},
   "outputs": [
    {
     "data": {
      "text/plain": [
       "([0, 1, 2, 3],\n",
       " [Text(0, 0, 'Generalized Anxiety'),\n",
       "  Text(1, 0, 'Major Depressive Disorder'),\n",
       "  Text(2, 0, 'Bipolar Disorder'),\n",
       "  Text(3, 0, 'Panic Disorder')])"
      ]
     },
     "execution_count": 42,
     "metadata": {},
     "output_type": "execute_result"
    },
    {
     "data": {
      "image/png": "[encoded data removed]",
      "text/plain": [
       "<Figure size 640x480 with 1 Axes>"
      ]
     },
     "metadata": {},
     "output_type": "display_data"
    }
   ],
   "source": [
    "sns.barplot(x=diagnosis_counts.index, y=diagnosis_counts.values)\n",
    "plt.xticks(rotation=45, ha=\"right\")"
   ]
  },
  {
   "cell_type": "markdown",
   "id": "2375e310-379e-4598-af13-74c0997244fd",
   "metadata": {},
   "source": [
    "## Bivariate Analysis"
   ]
  },
  {
   "cell_type": "markdown",
   "id": "aeef7ea0-070b-43ee-93dd-d28b574c487a",
   "metadata": {},
   "source": [
    "### Graph: Stacked Bar Chart, (Treatment Types = X, and different outcome counts = Y for each bar)"
   ]
  },
  {
   "cell_type": "markdown",
   "id": "e0c0afbc-fb99-48b1-aaae-26322175b653",
   "metadata": {},
   "source": [
    "### Graph: 2-3 Line Graphs, How a given mental illness affect people of different ages"
   ]
  },
  {
   "cell_type": "markdown",
   "id": "360f7985-83a4-4d65-8743-81e27386cbc9",
   "metadata": {},
   "source": [
    "## Conclusions"
   ]
  }
 ],
 "metadata": {
  "kernelspec": {
   "display_name": "Python 3 (ipykernel)",
   "language": "python",
   "name": "python3"
  },
  "language_info": {
   "codemirror_mode": {
    "name": "ipython",
    "version": 3
   },
   "file_extension": ".py",
   "mimetype": "text/x-python",
   "name": "python",
   "nbconvert_exporter": "python",
   "pygments_lexer": "ipython3",
   "version": "3.12.7"
  }
 },
 "nbformat": 4,
 "nbformat_minor": 5
}
